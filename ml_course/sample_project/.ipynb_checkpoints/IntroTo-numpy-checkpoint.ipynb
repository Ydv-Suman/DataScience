{
 "cells": [
  {
   "cell_type": "code",
   "execution_count": 1,
   "id": "b1147f08-f111-49e3-9f33-f1d1ca0779d1",
   "metadata": {},
   "outputs": [],
   "source": [
    "import numpy as np"
   ]
  },
  {
   "cell_type": "markdown",
   "id": "7bd93d63-220b-4696-a1f8-c5b385489d36",
   "metadata": {},
   "source": [
    "## DataTypes & Attributes"
   ]
  },
  {
   "cell_type": "code",
   "execution_count": 2,
   "id": "4fbd25c7-5a8f-4958-9c39-b7531af251fc",
   "metadata": {},
   "outputs": [
    {
     "name": "stdout",
     "output_type": "stream",
     "text": [
      "[1 2 3]\n"
     ]
    },
    {
     "data": {
      "text/plain": [
       "array([1, 2, 3])"
      ]
     },
     "execution_count": 2,
     "metadata": {},
     "output_type": "execute_result"
    }
   ],
   "source": [
    "## numpy's main data type is ndarray  (n dimensional array)\n",
    "a = np.array([1,2,3])\n",
    "print(a)\n",
    "a"
   ]
  },
  {
   "cell_type": "code",
   "execution_count": 3,
   "id": "bbdece71-feef-4369-925e-28a55fe29660",
   "metadata": {},
   "outputs": [
    {
     "data": {
      "text/plain": [
       "dtype('int64')"
      ]
     },
     "execution_count": 3,
     "metadata": {},
     "output_type": "execute_result"
    }
   ],
   "source": [
    "a.dtype"
   ]
  },
  {
   "cell_type": "code",
   "execution_count": 4,
   "id": "ad1b35d7-6950-4232-aaae-7f02235dc1d7",
   "metadata": {},
   "outputs": [
    {
     "data": {
      "text/plain": [
       "numpy.ndarray"
      ]
     },
     "execution_count": 4,
     "metadata": {},
     "output_type": "execute_result"
    }
   ],
   "source": [
    "type(a)"
   ]
  },
  {
   "cell_type": "code",
   "execution_count": 20,
   "id": "e9078703-3e31-4c9e-a75c-1bdd9619e3cb",
   "metadata": {},
   "outputs": [
    {
     "name": "stdout",
     "output_type": "stream",
     "text": [
      "(3, 3, 3)\n"
     ]
    }
   ],
   "source": [
    "b = np.array([[1,2.5,3],[4,5,6.5],[4,7,8]])\n",
    "c = np.array([[[1,2,3],[4,5,6],[7,8,9]],[[19,20,21],[22,23,24],[25,36,27]],[[10,11,12],[13,14,15],[16,17,18]]])\n",
    "print(c.shape)"
   ]
  },
  {
   "cell_type": "code",
   "execution_count": 21,
   "id": "f6fe5c9b-e341-48e6-bc41-1480509fa496",
   "metadata": {},
   "outputs": [],
   "source": [
    "## row is referred as axis 0\n",
    "## column is referred as axis 1\n",
    "## beyound row and column is referred as axis n"
   ]
  },
  {
   "cell_type": "code",
   "execution_count": 22,
   "id": "7627fe45-6519-49a3-89c9-9a3f22285589",
   "metadata": {},
   "outputs": [
    {
     "data": {
      "text/plain": [
       "array([[0., 0.],\n",
       "       [0., 0.],\n",
       "       [0., 0.]])"
      ]
     },
     "execution_count": 22,
     "metadata": {},
     "output_type": "execute_result"
    }
   ],
   "source": [
    "np.zeros((3,2))"
   ]
  },
  {
   "cell_type": "code",
   "execution_count": 23,
   "id": "307146ad-1847-4332-92be-b7d7f64c0196",
   "metadata": {},
   "outputs": [
    {
     "data": {
      "text/plain": [
       "array([[[ 0,  1,  2,  3,  4,  5]],\n",
       "\n",
       "       [[ 6,  7,  8,  9, 10, 11]]])"
      ]
     },
     "execution_count": 23,
     "metadata": {},
     "output_type": "execute_result"
    }
   ],
   "source": [
    "d = np.arange(12).reshape(2,1,6)\n",
    "d"
   ]
  },
  {
   "cell_type": "code",
   "execution_count": 24,
   "id": "0010da18-4725-4d3b-9c17-bf9ab95b8978",
   "metadata": {},
   "outputs": [
    {
     "name": "stdout",
     "output_type": "stream",
     "text": [
      "1\n",
      "2\n",
      "3\n",
      "4\n",
      "5\n",
      "6\n",
      "7\n",
      "8\n",
      "9\n",
      "19\n",
      "20\n",
      "21\n",
      "22\n",
      "23\n",
      "24\n",
      "25\n",
      "36\n",
      "27\n",
      "10\n",
      "11\n",
      "12\n",
      "13\n",
      "14\n",
      "15\n",
      "16\n",
      "17\n",
      "18\n"
     ]
    }
   ],
   "source": [
    "for elt in c.flat:\n",
    "    print(elt)"
   ]
  },
  {
   "cell_type": "markdown",
   "id": "8689bed2-d88e-4b07-8d3e-fd197a959089",
   "metadata": {},
   "source": [
    "## creating dataframe from numpy"
   ]
  },
  {
   "cell_type": "code",
   "execution_count": 28,
   "id": "65dfbb79-55ca-43cf-87d1-9924a450cb59",
   "metadata": {},
   "outputs": [
    {
     "data": {
      "text/plain": [
       "array([[1. , 2.5, 3. ],\n",
       "       [4. , 5. , 6.5],\n",
       "       [4. , 7. , 8. ]])"
      ]
     },
     "execution_count": 28,
     "metadata": {},
     "output_type": "execute_result"
    }
   ],
   "source": [
    "import pandas as pd\n",
    "b"
   ]
  },
  {
   "cell_type": "code",
   "execution_count": 27,
   "id": "10e4431f-3c81-44da-b036-f5912424267f",
   "metadata": {},
   "outputs": [
    {
     "data": {
      "text/html": [
       "<div>\n",
       "<style scoped>\n",
       "    .dataframe tbody tr th:only-of-type {\n",
       "        vertical-align: middle;\n",
       "    }\n",
       "\n",
       "    .dataframe tbody tr th {\n",
       "        vertical-align: top;\n",
       "    }\n",
       "\n",
       "    .dataframe thead th {\n",
       "        text-align: right;\n",
       "    }\n",
       "</style>\n",
       "<table border=\"1\" class=\"dataframe\">\n",
       "  <thead>\n",
       "    <tr style=\"text-align: right;\">\n",
       "      <th></th>\n",
       "      <th>0</th>\n",
       "      <th>1</th>\n",
       "      <th>2</th>\n",
       "    </tr>\n",
       "  </thead>\n",
       "  <tbody>\n",
       "    <tr>\n",
       "      <th>0</th>\n",
       "      <td>1.0</td>\n",
       "      <td>2.5</td>\n",
       "      <td>3.0</td>\n",
       "    </tr>\n",
       "    <tr>\n",
       "      <th>1</th>\n",
       "      <td>4.0</td>\n",
       "      <td>5.0</td>\n",
       "      <td>6.5</td>\n",
       "    </tr>\n",
       "    <tr>\n",
       "      <th>2</th>\n",
       "      <td>4.0</td>\n",
       "      <td>7.0</td>\n",
       "      <td>8.0</td>\n",
       "    </tr>\n",
       "  </tbody>\n",
       "</table>\n",
       "</div>"
      ],
      "text/plain": [
       "     0    1    2\n",
       "0  1.0  2.5  3.0\n",
       "1  4.0  5.0  6.5\n",
       "2  4.0  7.0  8.0"
      ]
     },
     "execution_count": 27,
     "metadata": {},
     "output_type": "execute_result"
    }
   ],
   "source": [
    "df = pd.DataFrame(b)\n",
    "df"
   ]
  },
  {
   "cell_type": "code",
   "execution_count": 32,
   "id": "10fc1e82-d835-40ec-870e-f9554a27d4e8",
   "metadata": {},
   "outputs": [
    {
     "data": {
      "text/plain": [
       "array([0, 2, 4, 6, 8])"
      ]
     },
     "execution_count": 32,
     "metadata": {},
     "output_type": "execute_result"
    }
   ],
   "source": [
    "range_array = np.arange(0,10,2)  ## start, stop, step\n",
    "range_array"
   ]
  },
  {
   "cell_type": "code",
   "execution_count": 38,
   "id": "4dfc5178-e270-490d-9e2a-bce1b3089730",
   "metadata": {},
   "outputs": [
    {
     "data": {
      "text/plain": [
       "array([[9, 7, 0],\n",
       "       [7, 4, 1],\n",
       "       [0, 5, 8]])"
      ]
     },
     "execution_count": 38,
     "metadata": {},
     "output_type": "execute_result"
    }
   ],
   "source": [
    "random_array = np.random.randint(0, 10, size=(3,3))\n",
    "random_array\n",
    "## start inclusive, end exclusive, size"
   ]
  },
  {
   "cell_type": "code",
   "execution_count": 46,
   "id": "cd8eb258-cfdb-4bb3-9889-1c5639a1f555",
   "metadata": {},
   "outputs": [
    {
     "data": {
      "text/plain": [
       "array([[0.13836823, 0.62065667],\n",
       "       [0.39358122, 0.58416237],\n",
       "       [0.51643384, 0.07723005]])"
      ]
     },
     "execution_count": 46,
     "metadata": {},
     "output_type": "execute_result"
    }
   ],
   "source": [
    "random_array1 = np.random.random((3,2))\n",
    "random_array1\n",
    "# value from 0.0 to 1.0"
   ]
  },
  {
   "cell_type": "code",
   "execution_count": 52,
   "id": "01747e20-5538-41a1-ad51-1252354477c5",
   "metadata": {},
   "outputs": [
    {
     "data": {
      "text/plain": [
       "array([[[0.06222977, 0.91651496, 0.91982076],\n",
       "        [0.97675234, 0.80691922, 0.52776418],\n",
       "        [0.93341343, 0.39738193, 0.08871615],\n",
       "        [0.92102493, 0.48670275, 0.42774752],\n",
       "        [0.04612877, 0.79695457, 0.76548931]],\n",
       "\n",
       "       [[0.97352201, 0.90664472, 0.96249979],\n",
       "        [0.19461049, 0.74924606, 0.3479063 ],\n",
       "        [0.32814437, 0.37690209, 0.95891674],\n",
       "        [0.74204203, 0.44964295, 0.81377513],\n",
       "        [0.71701123, 0.70549269, 0.96142049]]])"
      ]
     },
     "execution_count": 52,
     "metadata": {},
     "output_type": "execute_result"
    }
   ],
   "source": [
    "random_array2 = np.random.rand(2,5,3)\n",
    "random_array2\n",
    "#random.rand used to create array in multiple dimensions "
   ]
  },
  {
   "cell_type": "code",
   "execution_count": 58,
   "id": "97519bd4-cc56-4e15-a7e0-e85a1f5f2bcb",
   "metadata": {},
   "outputs": [
    {
     "data": {
      "text/plain": [
       "array([[0.77746021, 0.88118456, 0.29078625, 0.98739901],\n",
       "       [0.78510556, 0.10323996, 0.14959007, 0.51113991]])"
      ]
     },
     "execution_count": 58,
     "metadata": {},
     "output_type": "execute_result"
    }
   ],
   "source": [
    "np.random.seed()\n",
    "random_array3 = np.random.random((2,4))\n",
    "random_array3"
   ]
  },
  {
   "cell_type": "code",
   "execution_count": 59,
   "id": "321adc00-563d-4cd9-ad24-5f8027b59b50",
   "metadata": {},
   "outputs": [
    {
     "data": {
      "text/plain": [
       "array([[[ 1,  2,  3],\n",
       "        [ 4,  5,  6],\n",
       "        [ 7,  8,  9]],\n",
       "\n",
       "       [[19, 20, 21],\n",
       "        [22, 23, 24],\n",
       "        [25, 36, 27]],\n",
       "\n",
       "       [[10, 11, 12],\n",
       "        [13, 14, 15],\n",
       "        [16, 17, 18]]])"
      ]
     },
     "execution_count": 59,
     "metadata": {},
     "output_type": "execute_result"
    }
   ],
   "source": [
    "c"
   ]
  },
  {
   "cell_type": "code",
   "execution_count": 60,
   "id": "01e7ed77-9904-42aa-b36b-f80a459386dc",
   "metadata": {},
   "outputs": [
    {
     "data": {
      "text/plain": [
       "array([[1, 2, 3],\n",
       "       [4, 5, 6],\n",
       "       [7, 8, 9]])"
      ]
     },
     "execution_count": 60,
     "metadata": {},
     "output_type": "execute_result"
    }
   ],
   "source": [
    "c[0]"
   ]
  },
  {
   "cell_type": "code",
   "execution_count": 67,
   "id": "3f0742d4-1fe4-434d-ba3e-c52386e79b81",
   "metadata": {},
   "outputs": [
    {
     "data": {
      "text/plain": [
       "array([[[ 1],\n",
       "        [ 4]],\n",
       "\n",
       "       [[19],\n",
       "        [22]]])"
      ]
     },
     "execution_count": 67,
     "metadata": {},
     "output_type": "execute_result"
    }
   ],
   "source": [
    "c[:2,:2,:1]\n",
    "#dimention, row, column"
   ]
  },
  {
   "cell_type": "code",
   "execution_count": 71,
   "id": "6ff71795-f566-41f3-b09a-097ec258f499",
   "metadata": {},
   "outputs": [
    {
     "data": {
      "text/plain": [
       "array([[[[9, 8, 1, 5, 5],\n",
       "         [3, 3, 9, 4, 4],\n",
       "         [6, 5, 4, 9, 5],\n",
       "         [3, 0, 0, 2, 8]],\n",
       "\n",
       "        [[2, 7, 8, 3, 1],\n",
       "         [1, 5, 1, 2, 8],\n",
       "         [6, 4, 3, 8, 9],\n",
       "         [5, 8, 4, 9, 6]],\n",
       "\n",
       "        [[1, 0, 8, 8, 2],\n",
       "         [8, 1, 3, 7, 3],\n",
       "         [5, 7, 2, 4, 7],\n",
       "         [5, 8, 0, 5, 2]]],\n",
       "\n",
       "\n",
       "       [[[2, 0, 1, 9, 2],\n",
       "         [1, 5, 0, 9, 3],\n",
       "         [5, 5, 3, 0, 1],\n",
       "         [9, 0, 0, 6, 2]],\n",
       "\n",
       "        [[1, 6, 2, 5, 9],\n",
       "         [6, 9, 4, 3, 5],\n",
       "         [1, 7, 1, 1, 5],\n",
       "         [6, 9, 1, 8, 2]],\n",
       "\n",
       "        [[1, 8, 8, 6, 0],\n",
       "         [1, 5, 3, 2, 3],\n",
       "         [7, 4, 1, 1, 4],\n",
       "         [4, 1, 5, 2, 0]]]])"
      ]
     },
     "execution_count": 71,
     "metadata": {},
     "output_type": "execute_result"
    }
   ],
   "source": [
    "d = np.random.randint(10, size=(2,3,4,5))\n",
    "d\n",
    "## 2, 3 is dimension\n",
    "## 4, 5 is row and column"
   ]
  },
  {
   "cell_type": "code",
   "execution_count": null,
   "id": "cb6e5d13-3d01-4ed7-be1b-cfe66b8a5d4e",
   "metadata": {},
   "outputs": [],
   "source": []
  }
 ],
 "metadata": {
  "kernelspec": {
   "display_name": "Python 3 (ipykernel)",
   "language": "python",
   "name": "python3"
  },
  "language_info": {
   "codemirror_mode": {
    "name": "ipython",
    "version": 3
   },
   "file_extension": ".py",
   "mimetype": "text/x-python",
   "name": "python",
   "nbconvert_exporter": "python",
   "pygments_lexer": "ipython3",
   "version": "3.12.8"
  }
 },
 "nbformat": 4,
 "nbformat_minor": 5
}
