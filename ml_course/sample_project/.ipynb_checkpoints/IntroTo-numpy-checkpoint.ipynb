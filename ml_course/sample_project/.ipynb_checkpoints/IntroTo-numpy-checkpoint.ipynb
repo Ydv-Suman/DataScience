{
 "cells": [
  {
   "cell_type": "code",
   "execution_count": 1,
   "id": "b1147f08-f111-49e3-9f33-f1d1ca0779d1",
   "metadata": {},
   "outputs": [],
   "source": [
    "import numpy as np"
   ]
  },
  {
   "cell_type": "markdown",
   "id": "7bd93d63-220b-4696-a1f8-c5b385489d36",
   "metadata": {},
   "source": [
    "## DataTypes & Attributes"
   ]
  },
  {
   "cell_type": "code",
   "execution_count": 2,
   "id": "4fbd25c7-5a8f-4958-9c39-b7531af251fc",
   "metadata": {},
   "outputs": [
    {
     "name": "stdout",
     "output_type": "stream",
     "text": [
      "[1 2 3]\n"
     ]
    },
    {
     "data": {
      "text/plain": [
       "array([1, 2, 3])"
      ]
     },
     "execution_count": 2,
     "metadata": {},
     "output_type": "execute_result"
    }
   ],
   "source": [
    "## numpy's main data type is ndarray  (n dimensional array)\n",
    "a = np.array([1,2,3])\n",
    "print(a)\n",
    "a"
   ]
  },
  {
   "cell_type": "code",
   "execution_count": 3,
   "id": "bbdece71-feef-4369-925e-28a55fe29660",
   "metadata": {},
   "outputs": [
    {
     "data": {
      "text/plain": [
       "dtype('int64')"
      ]
     },
     "execution_count": 3,
     "metadata": {},
     "output_type": "execute_result"
    }
   ],
   "source": [
    "a.dtype"
   ]
  },
  {
   "cell_type": "code",
   "execution_count": 4,
   "id": "ad1b35d7-6950-4232-aaae-7f02235dc1d7",
   "metadata": {},
   "outputs": [
    {
     "data": {
      "text/plain": [
       "numpy.ndarray"
      ]
     },
     "execution_count": 4,
     "metadata": {},
     "output_type": "execute_result"
    }
   ],
   "source": [
    "type(a)"
   ]
  },
  {
   "cell_type": "code",
   "execution_count": 5,
   "id": "e9078703-3e31-4c9e-a75c-1bdd9619e3cb",
   "metadata": {},
   "outputs": [
    {
     "name": "stdout",
     "output_type": "stream",
     "text": [
      "(3, 3, 3)\n"
     ]
    }
   ],
   "source": [
    "b = np.array([[1,2.5,3],[4,5,6.5],[4,7,8]])\n",
    "c = np.array([[[1,2,3],[4,5,6],[7,8,9]],[[19,20,21],[22,23,24],[25,36,27]],[[10,11,12],[13,14,15],[16,17,18]]])\n",
    "print(c.shape)"
   ]
  },
  {
   "cell_type": "code",
   "execution_count": 6,
   "id": "f6fe5c9b-e341-48e6-bc41-1480509fa496",
   "metadata": {},
   "outputs": [],
   "source": [
    "## row is referred as axis 0\n",
    "## column is referred as axis 1\n",
    "## beyound row and column is referred as axis n"
   ]
  },
  {
   "cell_type": "code",
   "execution_count": 7,
   "id": "7627fe45-6519-49a3-89c9-9a3f22285589",
   "metadata": {},
   "outputs": [
    {
     "data": {
      "text/plain": [
       "array([[0., 0.],\n",
       "       [0., 0.],\n",
       "       [0., 0.]])"
      ]
     },
     "execution_count": 7,
     "metadata": {},
     "output_type": "execute_result"
    }
   ],
   "source": [
    "np.zeros((3,2))"
   ]
  },
  {
   "cell_type": "code",
   "execution_count": 8,
   "id": "307146ad-1847-4332-92be-b7d7f64c0196",
   "metadata": {},
   "outputs": [
    {
     "data": {
      "text/plain": [
       "array([[[ 0,  1,  2,  3,  4,  5]],\n",
       "\n",
       "       [[ 6,  7,  8,  9, 10, 11]]])"
      ]
     },
     "execution_count": 8,
     "metadata": {},
     "output_type": "execute_result"
    }
   ],
   "source": [
    "d = np.arange(12).reshape(2,1,6)\n",
    "d"
   ]
  },
  {
   "cell_type": "code",
   "execution_count": 9,
   "id": "0010da18-4725-4d3b-9c17-bf9ab95b8978",
   "metadata": {},
   "outputs": [
    {
     "name": "stdout",
     "output_type": "stream",
     "text": [
      "1\n",
      "2\n",
      "3\n",
      "4\n",
      "5\n",
      "6\n",
      "7\n",
      "8\n",
      "9\n",
      "19\n",
      "20\n",
      "21\n",
      "22\n",
      "23\n",
      "24\n",
      "25\n",
      "36\n",
      "27\n",
      "10\n",
      "11\n",
      "12\n",
      "13\n",
      "14\n",
      "15\n",
      "16\n",
      "17\n",
      "18\n"
     ]
    }
   ],
   "source": [
    "for elt in c.flat:\n",
    "    print(elt)"
   ]
  },
  {
   "cell_type": "markdown",
   "id": "8689bed2-d88e-4b07-8d3e-fd197a959089",
   "metadata": {},
   "source": [
    "## creating dataframe from numpy"
   ]
  },
  {
   "cell_type": "code",
   "execution_count": 10,
   "id": "65dfbb79-55ca-43cf-87d1-9924a450cb59",
   "metadata": {},
   "outputs": [
    {
     "data": {
      "text/plain": [
       "array([[1. , 2.5, 3. ],\n",
       "       [4. , 5. , 6.5],\n",
       "       [4. , 7. , 8. ]])"
      ]
     },
     "execution_count": 10,
     "metadata": {},
     "output_type": "execute_result"
    }
   ],
   "source": [
    "import pandas as pd\n",
    "b"
   ]
  },
  {
   "cell_type": "code",
   "execution_count": 11,
   "id": "10e4431f-3c81-44da-b036-f5912424267f",
   "metadata": {},
   "outputs": [
    {
     "data": {
      "text/html": [
       "<div>\n",
       "<style scoped>\n",
       "    .dataframe tbody tr th:only-of-type {\n",
       "        vertical-align: middle;\n",
       "    }\n",
       "\n",
       "    .dataframe tbody tr th {\n",
       "        vertical-align: top;\n",
       "    }\n",
       "\n",
       "    .dataframe thead th {\n",
       "        text-align: right;\n",
       "    }\n",
       "</style>\n",
       "<table border=\"1\" class=\"dataframe\">\n",
       "  <thead>\n",
       "    <tr style=\"text-align: right;\">\n",
       "      <th></th>\n",
       "      <th>0</th>\n",
       "      <th>1</th>\n",
       "      <th>2</th>\n",
       "    </tr>\n",
       "  </thead>\n",
       "  <tbody>\n",
       "    <tr>\n",
       "      <th>0</th>\n",
       "      <td>1.0</td>\n",
       "      <td>2.5</td>\n",
       "      <td>3.0</td>\n",
       "    </tr>\n",
       "    <tr>\n",
       "      <th>1</th>\n",
       "      <td>4.0</td>\n",
       "      <td>5.0</td>\n",
       "      <td>6.5</td>\n",
       "    </tr>\n",
       "    <tr>\n",
       "      <th>2</th>\n",
       "      <td>4.0</td>\n",
       "      <td>7.0</td>\n",
       "      <td>8.0</td>\n",
       "    </tr>\n",
       "  </tbody>\n",
       "</table>\n",
       "</div>"
      ],
      "text/plain": [
       "     0    1    2\n",
       "0  1.0  2.5  3.0\n",
       "1  4.0  5.0  6.5\n",
       "2  4.0  7.0  8.0"
      ]
     },
     "execution_count": 11,
     "metadata": {},
     "output_type": "execute_result"
    }
   ],
   "source": [
    "df = pd.DataFrame(b)\n",
    "df"
   ]
  },
  {
   "cell_type": "code",
   "execution_count": 12,
   "id": "10fc1e82-d835-40ec-870e-f9554a27d4e8",
   "metadata": {},
   "outputs": [
    {
     "data": {
      "text/plain": [
       "array([0, 2, 4, 6, 8])"
      ]
     },
     "execution_count": 12,
     "metadata": {},
     "output_type": "execute_result"
    }
   ],
   "source": [
    "range_array = np.arange(0,10,2)  ## start, stop, step\n",
    "range_array"
   ]
  },
  {
   "cell_type": "code",
   "execution_count": 13,
   "id": "4dfc5178-e270-490d-9e2a-bce1b3089730",
   "metadata": {},
   "outputs": [
    {
     "data": {
      "text/plain": [
       "array([[5, 8, 0],\n",
       "       [4, 6, 3],\n",
       "       [3, 1, 8]])"
      ]
     },
     "execution_count": 13,
     "metadata": {},
     "output_type": "execute_result"
    }
   ],
   "source": [
    "random_array = np.random.randint(0, 10, size=(3,3))\n",
    "random_array\n",
    "## start inclusive, end exclusive, size"
   ]
  },
  {
   "cell_type": "code",
   "execution_count": 14,
   "id": "cd8eb258-cfdb-4bb3-9889-1c5639a1f555",
   "metadata": {},
   "outputs": [
    {
     "data": {
      "text/plain": [
       "array([[0.58353263, 0.37998099],\n",
       "       [0.02684191, 0.37712612],\n",
       "       [0.38644804, 0.88107174]])"
      ]
     },
     "execution_count": 14,
     "metadata": {},
     "output_type": "execute_result"
    }
   ],
   "source": [
    "random_array1 = np.random.random((3,2))\n",
    "random_array1\n",
    "# value from 0.0 to 1.0"
   ]
  },
  {
   "cell_type": "code",
   "execution_count": 15,
   "id": "01747e20-5538-41a1-ad51-1252354477c5",
   "metadata": {},
   "outputs": [
    {
     "data": {
      "text/plain": [
       "array([[[0.40275716, 0.42270414, 0.3358422 ],\n",
       "        [0.614247  , 0.79380494, 0.77746398],\n",
       "        [0.89205674, 0.08628818, 0.00165552],\n",
       "        [0.70835095, 0.04930258, 0.94207346],\n",
       "        [0.58422712, 0.82251279, 0.63597568]],\n",
       "\n",
       "       [[0.47762459, 0.93600022, 0.88067757],\n",
       "        [0.50093237, 0.97375301, 0.27477944],\n",
       "        [0.0562921 , 0.78327455, 0.02153901],\n",
       "        [0.53566826, 0.01014139, 0.02512559],\n",
       "        [0.28434815, 0.51779086, 0.76281221]]])"
      ]
     },
     "execution_count": 15,
     "metadata": {},
     "output_type": "execute_result"
    }
   ],
   "source": [
    "random_array2 = np.random.rand(2,5,3)\n",
    "random_array2\n",
    "#random.rand used to create array in multiple dimensions "
   ]
  },
  {
   "cell_type": "code",
   "execution_count": 16,
   "id": "97519bd4-cc56-4e15-a7e0-e85a1f5f2bcb",
   "metadata": {},
   "outputs": [
    {
     "data": {
      "text/plain": [
       "array([[0.51729788, 0.9469626 , 0.76545976, 0.28239584],\n",
       "       [0.22104536, 0.68622209, 0.1671392 , 0.39244247]])"
      ]
     },
     "execution_count": 16,
     "metadata": {},
     "output_type": "execute_result"
    }
   ],
   "source": [
    "np.random.seed(23)\n",
    "random_array3 = np.random.random((2,4))\n",
    "random_array3"
   ]
  },
  {
   "cell_type": "code",
   "execution_count": 17,
   "id": "321adc00-563d-4cd9-ad24-5f8027b59b50",
   "metadata": {},
   "outputs": [
    {
     "data": {
      "text/plain": [
       "array([[[ 1,  2,  3],\n",
       "        [ 4,  5,  6],\n",
       "        [ 7,  8,  9]],\n",
       "\n",
       "       [[19, 20, 21],\n",
       "        [22, 23, 24],\n",
       "        [25, 36, 27]],\n",
       "\n",
       "       [[10, 11, 12],\n",
       "        [13, 14, 15],\n",
       "        [16, 17, 18]]])"
      ]
     },
     "execution_count": 17,
     "metadata": {},
     "output_type": "execute_result"
    }
   ],
   "source": [
    "c"
   ]
  },
  {
   "cell_type": "code",
   "execution_count": 18,
   "id": "01e7ed77-9904-42aa-b36b-f80a459386dc",
   "metadata": {},
   "outputs": [
    {
     "data": {
      "text/plain": [
       "array([[1, 2, 3],\n",
       "       [4, 5, 6],\n",
       "       [7, 8, 9]])"
      ]
     },
     "execution_count": 18,
     "metadata": {},
     "output_type": "execute_result"
    }
   ],
   "source": [
    "c[0]"
   ]
  },
  {
   "cell_type": "code",
   "execution_count": 19,
   "id": "3f0742d4-1fe4-434d-ba3e-c52386e79b81",
   "metadata": {},
   "outputs": [
    {
     "data": {
      "text/plain": [
       "array([[[ 1],\n",
       "        [ 4]],\n",
       "\n",
       "       [[19],\n",
       "        [22]]])"
      ]
     },
     "execution_count": 19,
     "metadata": {},
     "output_type": "execute_result"
    }
   ],
   "source": [
    "c[:2,:2,:1]\n",
    "#dimention, row, column"
   ]
  },
  {
   "cell_type": "code",
   "execution_count": 20,
   "id": "6ff71795-f566-41f3-b09a-097ec258f499",
   "metadata": {},
   "outputs": [
    {
     "data": {
      "text/plain": [
       "array([[[[1, 2, 5, 5, 0],\n",
       "         [5, 0, 9, 9, 3],\n",
       "         [1, 7, 4, 1, 1],\n",
       "         [4, 6, 7, 3, 6]],\n",
       "\n",
       "        [[9, 2, 3, 0, 8],\n",
       "         [6, 6, 0, 5, 6],\n",
       "         [0, 2, 0, 3, 0],\n",
       "         [6, 2, 2, 5, 7]],\n",
       "\n",
       "        [[9, 4, 7, 7, 3],\n",
       "         [5, 5, 6, 4, 6],\n",
       "         [8, 5, 0, 4, 1],\n",
       "         [9, 4, 5, 9, 8]]],\n",
       "\n",
       "\n",
       "       [[[7, 1, 0, 5, 3],\n",
       "         [7, 6, 4, 0, 2],\n",
       "         [5, 1, 8, 2, 4],\n",
       "         [0, 4, 3, 4, 0]],\n",
       "\n",
       "        [[6, 8, 6, 1, 9],\n",
       "         [9, 5, 6, 5, 9],\n",
       "         [5, 7, 4, 0, 6],\n",
       "         [9, 8, 0, 1, 6]],\n",
       "\n",
       "        [[2, 0, 0, 0, 2],\n",
       "         [2, 6, 2, 8, 9],\n",
       "         [1, 5, 0, 6, 4],\n",
       "         [7, 6, 2, 7, 6]]]])"
      ]
     },
     "execution_count": 20,
     "metadata": {},
     "output_type": "execute_result"
    }
   ],
   "source": [
    "d = np.random.randint(10, size=(2,3,4,5))\n",
    "d\n",
    "## 2, 3 is dimension\n",
    "## 4, 5 is row and column"
   ]
  },
  {
   "cell_type": "code",
   "execution_count": 21,
   "id": "cb6e5d13-3d01-4ed7-be1b-cfe66b8a5d4e",
   "metadata": {},
   "outputs": [
    {
     "data": {
      "text/plain": [
       "array([[[[1, 2, 5, 5],\n",
       "         [5, 0, 9, 9],\n",
       "         [1, 7, 4, 1]],\n",
       "\n",
       "        [[9, 2, 3, 0],\n",
       "         [6, 6, 0, 5],\n",
       "         [0, 2, 0, 3]]],\n",
       "\n",
       "\n",
       "       [[[7, 1, 0, 5],\n",
       "         [7, 6, 4, 0],\n",
       "         [5, 1, 8, 2]],\n",
       "\n",
       "        [[6, 8, 6, 1],\n",
       "         [9, 5, 6, 5],\n",
       "         [5, 7, 4, 0]]]])"
      ]
     },
     "execution_count": 21,
     "metadata": {},
     "output_type": "execute_result"
    }
   ],
   "source": [
    "d[:2,:2,:3,:4]\n",
    "# :1,:1 will take first dimension, first array\n",
    "# :3,:4 will take row and column of that"
   ]
  },
  {
   "cell_type": "markdown",
   "id": "73af190e-d6d9-41cb-8da3-6f32b8772248",
   "metadata": {},
   "source": [
    "## manipulating and comparing arrays"
   ]
  },
  {
   "cell_type": "code",
   "execution_count": 22,
   "id": "9060ddf5-f567-4661-8ebb-e99282c0bd2d",
   "metadata": {},
   "outputs": [],
   "source": [
    "## Arithematic"
   ]
  },
  {
   "cell_type": "code",
   "execution_count": 23,
   "id": "2fdaf8dd-74b4-4709-8ec6-a72d811cadec",
   "metadata": {},
   "outputs": [],
   "source": [
    "a1 = np.array([1,2,3])"
   ]
  },
  {
   "cell_type": "code",
   "execution_count": 24,
   "id": "de513e20-ebd8-4c6e-a554-faa9b658be6c",
   "metadata": {},
   "outputs": [],
   "source": [
    "a2 = np.array([[5,6,7],[3,4,5]])"
   ]
  },
  {
   "cell_type": "code",
   "execution_count": 25,
   "id": "0446272d-51ad-42a4-a6fa-c1a5ce5f1561",
   "metadata": {},
   "outputs": [
    {
     "data": {
      "text/plain": [
       "array([[ 6,  8, 10],\n",
       "       [ 4,  6,  8]])"
      ]
     },
     "execution_count": 25,
     "metadata": {},
     "output_type": "execute_result"
    }
   ],
   "source": [
    "a1+a2"
   ]
  },
  {
   "cell_type": "code",
   "execution_count": 26,
   "id": "290ba662-eaf7-4822-87e0-13a727f4c73a",
   "metadata": {},
   "outputs": [
    {
     "data": {
      "text/plain": [
       "array([[-4, -4, -4],\n",
       "       [-2, -2, -2]])"
      ]
     },
     "execution_count": 26,
     "metadata": {},
     "output_type": "execute_result"
    }
   ],
   "source": [
    "a1-a2"
   ]
  },
  {
   "cell_type": "code",
   "execution_count": 27,
   "id": "11c62e0a-a6f7-417f-a9e9-f3699496af92",
   "metadata": {},
   "outputs": [
    {
     "data": {
      "text/plain": [
       "array([[0, 0, 0],\n",
       "       [0, 0, 0]])"
      ]
     },
     "execution_count": 27,
     "metadata": {},
     "output_type": "execute_result"
    }
   ],
   "source": [
    "a1//a2\n",
    "# //  floor division removes the decimal and round it "
   ]
  },
  {
   "cell_type": "code",
   "execution_count": 28,
   "id": "a1a491a2-d7f9-43d1-b6f8-da6e3fe048bb",
   "metadata": {},
   "outputs": [
    {
     "data": {
      "text/plain": [
       "array([[0.2       , 0.33333333, 0.42857143],\n",
       "       [0.33333333, 0.5       , 0.6       ]])"
      ]
     },
     "execution_count": 28,
     "metadata": {},
     "output_type": "execute_result"
    }
   ],
   "source": [
    "a1/a2"
   ]
  },
  {
   "cell_type": "code",
   "execution_count": 29,
   "id": "549d4aa5-5ee0-4ccc-a720-e0a7ff76537a",
   "metadata": {},
   "outputs": [
    {
     "data": {
      "text/plain": [
       "array([[ 5, 12, 21],\n",
       "       [ 3,  8, 15]])"
      ]
     },
     "execution_count": 29,
     "metadata": {},
     "output_type": "execute_result"
    }
   ],
   "source": [
    "a1*a2"
   ]
  },
  {
   "cell_type": "code",
   "execution_count": 30,
   "id": "e8dc5377-5d95-43e1-ac44-9f79b4718dfe",
   "metadata": {},
   "outputs": [
    {
     "data": {
      "text/plain": [
       "array([[[ 1,  2,  3],\n",
       "        [ 4,  5,  6]],\n",
       "\n",
       "       [[ 7,  8,  9],\n",
       "        [10, 11, 12]]])"
      ]
     },
     "execution_count": 30,
     "metadata": {},
     "output_type": "execute_result"
    }
   ],
   "source": [
    "a3 = np.array([[[1,2,3],[4,5,6]],[[7,8,9],[10,11,12]]])\n",
    "a3"
   ]
  },
  {
   "cell_type": "code",
   "execution_count": 31,
   "id": "b0624670-fe5c-4b22-9700-73ded03a479b",
   "metadata": {},
   "outputs": [
    {
     "data": {
      "text/plain": [
       "array([[[ 5, 12, 21],\n",
       "        [12, 20, 30]],\n",
       "\n",
       "       [[35, 48, 63],\n",
       "        [30, 44, 60]]])"
      ]
     },
     "execution_count": 31,
     "metadata": {},
     "output_type": "execute_result"
    }
   ],
   "source": [
    "a2*a3"
   ]
  },
  {
   "cell_type": "code",
   "execution_count": 32,
   "id": "e226fd11-9f78-4daf-a89c-fa8bb6f5d095",
   "metadata": {},
   "outputs": [],
   "source": [
    "## shape should be same for operation"
   ]
  },
  {
   "cell_type": "code",
   "execution_count": 33,
   "id": "55977f9f-67c3-4eda-aa94-2efbd5df67d2",
   "metadata": {},
   "outputs": [
    {
     "data": {
      "text/plain": [
       "array([[[ 1,  2,  3],\n",
       "        [ 4,  5,  6]],\n",
       "\n",
       "       [[ 7,  8,  9],\n",
       "        [10, 11, 12]],\n",
       "\n",
       "       [[13, 14, 15],\n",
       "        [16, 17, 18]]])"
      ]
     },
     "execution_count": 33,
     "metadata": {},
     "output_type": "execute_result"
    }
   ],
   "source": [
    "a4 = np.array([[[1,2,3],[4,5,6,]],[[7,8,9],[10,11,12]],[[13,14,15],[16,17,18]]])\n",
    "a4"
   ]
  },
  {
   "cell_type": "code",
   "execution_count": 34,
   "id": "d1871054-a58c-4440-8d7c-0fa851d56e71",
   "metadata": {},
   "outputs": [
    {
     "name": "stdout",
     "output_type": "stream",
     "text": [
      "[1 2 3]\n",
      "a2\n",
      "[[5 6 7]\n",
      " [3 4 5]]\n",
      "a3\n",
      "[[[ 1  2  3]\n",
      "  [ 4  5  6]]\n",
      "\n",
      " [[ 7  8  9]\n",
      "  [10 11 12]]]\n",
      "a4\n",
      "[[[ 1  2  3]\n",
      "  [ 4  5  6]]\n",
      "\n",
      " [[ 7  8  9]\n",
      "  [10 11 12]]\n",
      "\n",
      " [[13 14 15]\n",
      "  [16 17 18]]]\n",
      "\n",
      "(3,)\n",
      "(2, 3)\n",
      "(2, 2, 3)\n",
      "(3, 2, 3)\n"
     ]
    }
   ],
   "source": [
    "print(a1)\n",
    "print(\"a2\")\n",
    "print(a2)\n",
    "print(\"a3\")\n",
    "print(a3)\n",
    "print(\"a4\")\n",
    "print(a4)\n",
    "print()\n",
    "print(a1.shape)\n",
    "print(a2.shape)\n",
    "print(a3.shape)\n",
    "print(a4.shape)"
   ]
  },
  {
   "cell_type": "code",
   "execution_count": 35,
   "id": "6412e6d2-3321-4ab4-b0bc-31a6e59e84dd",
   "metadata": {},
   "outputs": [],
   "source": [
    "## a3+a4\n",
    "#operands could not be broadcast together with shapes (2,2,3) (3,2,3) "
   ]
  },
  {
   "cell_type": "markdown",
   "id": "4c22c4a1-7b73-4130-af80-e443bd5139d6",
   "metadata": {},
   "source": [
    "## aggregation"
   ]
  },
  {
   "cell_type": "code",
   "execution_count": 36,
   "id": "65b7bd86-7464-448f-a046-b8d0c8beffd9",
   "metadata": {},
   "outputs": [
    {
     "data": {
      "text/plain": [
       "array([1, 2, 3])"
      ]
     },
     "execution_count": 36,
     "metadata": {},
     "output_type": "execute_result"
    }
   ],
   "source": [
    "a1"
   ]
  },
  {
   "cell_type": "code",
   "execution_count": 37,
   "id": "d0f4f1c7-f5f2-432f-8082-ec8406f601b1",
   "metadata": {},
   "outputs": [
    {
     "data": {
      "text/plain": [
       "np.int64(6)"
      ]
     },
     "execution_count": 37,
     "metadata": {},
     "output_type": "execute_result"
    }
   ],
   "source": [
    "np.sum(a1)"
   ]
  },
  {
   "cell_type": "code",
   "execution_count": 38,
   "id": "cc232181-8ab3-4e9b-8909-690ab0fe4e32",
   "metadata": {},
   "outputs": [
    {
     "data": {
      "text/plain": [
       "array([[5, 6, 7],\n",
       "       [3, 4, 5]])"
      ]
     },
     "execution_count": 38,
     "metadata": {},
     "output_type": "execute_result"
    }
   ],
   "source": [
    "a2"
   ]
  },
  {
   "cell_type": "code",
   "execution_count": 39,
   "id": "8f468d37-08a7-4ff2-a8c2-7ef468d137b2",
   "metadata": {},
   "outputs": [
    {
     "data": {
      "text/plain": [
       "np.float64(1.2909944487358056)"
      ]
     },
     "execution_count": 39,
     "metadata": {},
     "output_type": "execute_result"
    }
   ],
   "source": [
    "np.std(a2)"
   ]
  },
  {
   "cell_type": "code",
   "execution_count": 40,
   "id": "d027156f-6e41-4990-bf85-7e74bf7759e1",
   "metadata": {},
   "outputs": [],
   "source": [
    "%matplotlib inline\n",
    "import matplotlib.pyplot as plt"
   ]
  },
  {
   "cell_type": "code",
   "execution_count": 41,
   "id": "4a317ff9-c745-4045-9685-d14270f6f510",
   "metadata": {},
   "outputs": [],
   "source": [
    "high_var_array = np.array([1,100,200,400,4000,6000])\n",
    "low_var_array = np.array([2,4,6,8,10])"
   ]
  },
  {
   "cell_type": "code",
   "execution_count": 42,
   "id": "19a95ce3-694d-4d3b-89d1-2ee42a8221c9",
   "metadata": {},
   "outputs": [
    {
     "data": {
      "image/png": "[encoded data removed]",
      "text/plain": [
       "<Figure size 640x480 with 1 Axes>"
      ]
     },
     "metadata": {},
     "output_type": "display_data"
    }
   ],
   "source": [
    "plt.hist(high_var_array)\n",
    "plt.show()"
   ]
  },
  {
   "cell_type": "code",
   "execution_count": 43,
   "id": "ceca3989-936e-4770-a28d-74ba3b783b60",
   "metadata": {},
   "outputs": [
    {
     "data": {
      "text/plain": [
       "(array([1., 0., 1., 0., 0., 1., 0., 1., 0., 1.]),\n",
       " array([ 2. ,  2.8,  3.6,  4.4,  5.2,  6. ,  6.8,  7.6,  8.4,  9.2, 10. ]),\n",
       " <BarContainer object of 10 artists>)"
      ]
     },
     "execution_count": 43,
     "metadata": {},
     "output_type": "execute_result"
    }
   ],
   "source": [
    "plt.hist(low_var_array)"
   ]
  },
  {
   "cell_type": "code",
   "execution_count": 44,
   "id": "741fb041-59ea-4c59-a5cd-81e403a8521e",
   "metadata": {},
   "outputs": [
    {
     "data": {
      "image/png": "[encoded data removed]",
      "text/plain": [
       "<Figure size 640x480 with 1 Axes>"
      ]
     },
     "metadata": {},
     "output_type": "display_data"
    }
   ],
   "source": [
    "plt.show()"
   ]
  },
  {
   "cell_type": "markdown",
   "id": "edf38b49-cc21-43d3-8d50-c0781d2cfe75",
   "metadata": {},
   "source": [
    "## General brodcasting rule\n",
    "## they are equal, or\n",
    "## one of them is one"
   ]
  },
  {
   "cell_type": "code",
   "execution_count": 45,
   "id": "2c31032c-6ab3-40d4-bee1-2601f9e81ce3",
   "metadata": {},
   "outputs": [
    {
     "data": {
      "text/plain": [
       "((2, 2, 3), (3, 2, 3))"
      ]
     },
     "execution_count": 45,
     "metadata": {},
     "output_type": "execute_result"
    }
   ],
   "source": [
    "##  a3 * a4  operands could not be broadcast together with shapes (2,2,3) (3,2,3) \n",
    "a3.shape , a4.shape"
   ]
  },
  {
   "cell_type": "code",
   "execution_count": 46,
   "id": "6919959c-0651-4b9f-9a06-55d431c81a90",
   "metadata": {},
   "outputs": [],
   "source": [
    "a3_reshape = a3.reshape(1,2,2,3)\n",
    "a4_reshape = a4.reshape(3,2,1,3)"
   ]
  },
  {
   "cell_type": "code",
   "execution_count": 47,
   "id": "68a7210c-5e99-4764-9993-144d03e0679d",
   "metadata": {},
   "outputs": [
    {
     "data": {
      "text/plain": [
       "array([[[[  1,   4,   9],\n",
       "         [  4,  10,  18]],\n",
       "\n",
       "        [[ 28,  40,  54],\n",
       "         [ 40,  55,  72]]],\n",
       "\n",
       "\n",
       "       [[[  7,  16,  27],\n",
       "         [ 28,  40,  54]],\n",
       "\n",
       "        [[ 70,  88, 108],\n",
       "         [100, 121, 144]]],\n",
       "\n",
       "\n",
       "       [[[ 13,  28,  45],\n",
       "         [ 52,  70,  90]],\n",
       "\n",
       "        [[112, 136, 162],\n",
       "         [160, 187, 216]]]])"
      ]
     },
     "execution_count": 47,
     "metadata": {},
     "output_type": "execute_result"
    }
   ],
   "source": [
    "a3_reshape * a4_reshape"
   ]
  },
  {
   "cell_type": "code",
   "execution_count": 48,
   "id": "984e202b-f707-422d-aed1-2f5c9e6e9418",
   "metadata": {},
   "outputs": [],
   "source": [
    "## Transpose"
   ]
  },
  {
   "cell_type": "code",
   "execution_count": 49,
   "id": "d292a5b6-e910-4e85-ad82-0e45e1cc92d4",
   "metadata": {},
   "outputs": [
    {
     "data": {
      "text/plain": [
       "(array([[[ 1,  2,  3],\n",
       "         [ 4,  5,  6]],\n",
       " \n",
       "        [[ 7,  8,  9],\n",
       "         [10, 11, 12]]]),\n",
       " (2, 3))"
      ]
     },
     "execution_count": 49,
     "metadata": {},
     "output_type": "execute_result"
    }
   ],
   "source": [
    "a3, a2.shape"
   ]
  },
  {
   "cell_type": "code",
   "execution_count": 50,
   "id": "5998c035-325b-42dd-954b-7f25c14d3c76",
   "metadata": {},
   "outputs": [
    {
     "data": {
      "text/plain": [
       "(array([[[ 1,  7],\n",
       "         [ 4, 10]],\n",
       " \n",
       "        [[ 2,  8],\n",
       "         [ 5, 11]],\n",
       " \n",
       "        [[ 3,  9],\n",
       "         [ 6, 12]]]),\n",
       " (3, 2, 2))"
      ]
     },
     "execution_count": 50,
     "metadata": {},
     "output_type": "execute_result"
    }
   ],
   "source": [
    "a3.T, a3.T.shape"
   ]
  },
  {
   "cell_type": "code",
   "execution_count": 51,
   "id": "cb3211cd-6903-43e6-96ac-c15670f9cc28",
   "metadata": {},
   "outputs": [
    {
     "data": {
      "text/plain": [
       "(array([[5, 6, 7],\n",
       "        [3, 4, 5]]),\n",
       " (2, 3))"
      ]
     },
     "execution_count": 51,
     "metadata": {},
     "output_type": "execute_result"
    }
   ],
   "source": [
    "a2, a2.shape"
   ]
  },
  {
   "cell_type": "code",
   "execution_count": 52,
   "id": "8d1fd2d7-0aee-47d6-a873-7457fbecc88a",
   "metadata": {},
   "outputs": [
    {
     "data": {
      "text/plain": [
       "(array([[5, 3],\n",
       "        [6, 4],\n",
       "        [7, 5]]),\n",
       " (3, 2))"
      ]
     },
     "execution_count": 52,
     "metadata": {},
     "output_type": "execute_result"
    }
   ],
   "source": [
    "a2.T, a2.T.shape"
   ]
  },
  {
   "cell_type": "code",
   "execution_count": null,
   "id": "52e29f9c-24c8-49ee-b167-1b32ce39e857",
   "metadata": {},
   "outputs": [],
   "source": []
  },
  {
   "cell_type": "markdown",
   "id": "fee8312e-9d6d-4228-82d9-06d6e54c5f6e",
   "metadata": {},
   "source": [
    "## Dot Product"
   ]
  },
  {
   "cell_type": "code",
   "execution_count": 53,
   "id": "ec990c16-b294-4a10-8988-f83f05cbbce1",
   "metadata": {},
   "outputs": [
    {
     "data": {
      "text/plain": [
       "((2, 3), (2, 2, 3))"
      ]
     },
     "execution_count": 53,
     "metadata": {},
     "output_type": "execute_result"
    }
   ],
   "source": [
    "a2.shape, a3.shape"
   ]
  },
  {
   "cell_type": "code",
   "execution_count": null,
   "id": "4e0665c6-142b-4021-bc2b-ff3e368f361a",
   "metadata": {},
   "outputs": [],
   "source": []
  },
  {
   "cell_type": "code",
   "execution_count": null,
   "id": "8d458d9d-a3c1-4adb-9bcc-824b3e8f23b0",
   "metadata": {},
   "outputs": [],
   "source": []
  },
  {
   "cell_type": "code",
   "execution_count": 54,
   "id": "2655ed5e-07d1-4897-8d3b-d8d9895a8511",
   "metadata": {},
   "outputs": [
    {
     "data": {
      "text/plain": [
       "array([[[ 58,  76],\n",
       "        [166, 184]],\n",
       "\n",
       "       [[ 40,  52],\n",
       "        [112, 124]]])"
      ]
     },
     "execution_count": 54,
     "metadata": {},
     "output_type": "execute_result"
    }
   ],
   "source": [
    "np.dot(a2, a3.reshape(2,3,2))"
   ]
  },
  {
   "cell_type": "code",
   "execution_count": 55,
   "id": "1b3d054f-9deb-42ef-af24-8a224e6f7ca8",
   "metadata": {},
   "outputs": [
    {
     "data": {
      "text/plain": [
       "np.float64(2544.75)"
      ]
     },
     "execution_count": 55,
     "metadata": {},
     "output_type": "execute_result"
    }
   ],
   "source": [
    "np.var(np.dot(a2, a3.reshape(2,3,2)))"
   ]
  },
  {
   "cell_type": "code",
   "execution_count": 56,
   "id": "e0b1fe5e-6efe-4160-a4d0-83a815adafc0",
   "metadata": {},
   "outputs": [
    {
     "data": {
      "text/plain": [
       "np.float64(50.44551516240071)"
      ]
     },
     "execution_count": 56,
     "metadata": {},
     "output_type": "execute_result"
    }
   ],
   "source": [
    "np.std(np.dot(a2, a3.reshape(2,3,2)))"
   ]
  },
  {
   "cell_type": "code",
   "execution_count": 57,
   "id": "eb73a4e1-8261-41fa-aac1-51844ef30c30",
   "metadata": {},
   "outputs": [
    {
     "data": {
      "text/plain": [
       "np.float64(101.5)"
      ]
     },
     "execution_count": 57,
     "metadata": {},
     "output_type": "execute_result"
    }
   ],
   "source": [
    "np.mean(np.dot(a2, a3.reshape(2,3,2)))"
   ]
  },
  {
   "cell_type": "code",
   "execution_count": 58,
   "id": "582d96a3-0791-461c-8a30-df697ae73bdd",
   "metadata": {},
   "outputs": [
    {
     "data": {
      "text/plain": [
       "(2, 3)"
      ]
     },
     "execution_count": 58,
     "metadata": {},
     "output_type": "execute_result"
    }
   ],
   "source": [
    "a2.shape\n"
   ]
  },
  {
   "cell_type": "code",
   "execution_count": 59,
   "id": "a78a239e-d8dc-40e2-bc37-bcacdfc1a46d",
   "metadata": {},
   "outputs": [
    {
     "data": {
      "text/plain": [
       "array([[[5],\n",
       "        [6],\n",
       "        [7]],\n",
       "\n",
       "       [[3],\n",
       "        [4],\n",
       "        [5]]])"
      ]
     },
     "execution_count": 59,
     "metadata": {},
     "output_type": "execute_result"
    }
   ],
   "source": [
    "a2.reshape(2,3,1)"
   ]
  },
  {
   "cell_type": "code",
   "execution_count": 60,
   "id": "ef0a408a-7d56-4ce7-9d31-8e3e340f7f68",
   "metadata": {},
   "outputs": [
    {
     "data": {
      "text/plain": [
       "(2, 3)"
      ]
     },
     "execution_count": 60,
     "metadata": {},
     "output_type": "execute_result"
    }
   ],
   "source": [
    "a2.shape\n"
   ]
  },
  {
   "cell_type": "code",
   "execution_count": 61,
   "id": "a3685809-265e-44ef-a6ac-5a3f7d30fb0b",
   "metadata": {},
   "outputs": [
    {
     "data": {
      "text/plain": [
       "array([[5, 6, 7],\n",
       "       [3, 4, 5]])"
      ]
     },
     "execution_count": 61,
     "metadata": {},
     "output_type": "execute_result"
    }
   ],
   "source": [
    "## Transpose\n",
    "a2\n"
   ]
  },
  {
   "cell_type": "markdown",
   "id": "9e9b3fb9-d93d-4b9d-aa8a-785fee637759",
   "metadata": {},
   "source": []
  },
  {
   "cell_type": "code",
   "execution_count": 63,
   "id": "7fbe01e2-4077-4191-bc39-555b6e1a097d",
   "metadata": {},
   "outputs": [
    {
     "data": {
      "text/plain": [
       "array([[5, 3],\n",
       "       [6, 4],\n",
       "       [7, 5]])"
      ]
     },
     "execution_count": 63,
     "metadata": {},
     "output_type": "execute_result"
    }
   ],
   "source": [
    "a2.T"
   ]
  },
  {
   "cell_type": "code",
   "execution_count": 67,
   "id": "0c927d67-53a4-4816-be66-9e2e6efcba7c",
   "metadata": {},
   "outputs": [
    {
     "data": {
      "text/plain": [
       "array([[ 3, 42, 36],\n",
       "       [32,  1, 24]])"
      ]
     },
     "execution_count": 67,
     "metadata": {},
     "output_type": "execute_result"
    }
   ],
   "source": [
    "## Element wise multiplication   (hadamard_produc)\n",
    "arr1 = np.random.randint(10, size=(2, 3))\n",
    "arr2 = np.random.randint(10, size=(2, 3))\n",
    "\n",
    "arr1 * arr2"
   ]
  },
  {
   "cell_type": "code",
   "execution_count": 70,
   "id": "f1605590-d96b-4c91-8986-8d9e7d260bea",
   "metadata": {},
   "outputs": [
    {
     "data": {
      "text/plain": [
       "array([[81, 31],\n",
       "       [86, 57]])"
      ]
     },
     "execution_count": 70,
     "metadata": {},
     "output_type": "execute_result"
    }
   ],
   "source": [
    "## Dot product\n",
    "\n",
    "## np.dot(arr1, arr2) shapes (2,3) and (2,3) not aligned: 3 (dim 1) != 2 (dim 0)\n",
    "np.dot(arr1, arr2.T)"
   ]
  },
  {
   "cell_type": "markdown",
   "id": "7a034a31-c629-4bb8-83fd-1742ea3f0ce6",
   "metadata": {},
   "source": [
    "Book sales"
   ]
  },
  {
   "cell_type": "code",
   "execution_count": 126,
   "id": "60a28741-8de3-41cd-8fe9-b02b2b99b95c",
   "metadata": {},
   "outputs": [
    {
     "data": {
      "text/plain": [
       "array([[13, 18, 16],\n",
       "       [ 2,  3,  3],\n",
       "       [12,  5, 17],\n",
       "       [ 0,  4,  4],\n",
       "       [ 8,  0, 13]])"
      ]
     },
     "execution_count": 126,
     "metadata": {},
     "output_type": "execute_result"
    }
   ],
   "source": [
    "daily_sales = np.random.randint(20, size=(5, 3))\n",
    "daily_sales"
   ]
  },
  {
   "cell_type": "code",
   "execution_count": 127,
   "id": "88d36c59-ccab-4ac7-b479-4a6389591b00",
   "metadata": {},
   "outputs": [
    {
     "data": {
      "text/plain": [
       "array([30, 40, 35])"
      ]
     },
     "execution_count": 127,
     "metadata": {},
     "output_type": "execute_result"
    }
   ],
   "source": [
    "price = np.array([30, 40, 35])\n",
    "price\n"
   ]
  },
  {
   "cell_type": "code",
   "execution_count": 128,
   "id": "05c85fbd-07c1-4c58-abcb-7f21d12e9907",
   "metadata": {},
   "outputs": [],
   "source": [
    "## Making dataframe for both"
   ]
  },
  {
   "cell_type": "code",
   "execution_count": 129,
   "id": "a32afdc7-d68d-4edf-8cc3-8bdb5970f47b",
   "metadata": {},
   "outputs": [],
   "source": [
    "daily_sales_report = pd.DataFrame(day_sales,\n",
    "                              index=[\"Mon\", \"Tue\", \"Wed\", \"Thr\", \"Fri\"],\n",
    "                              columns=[\"Chemistry\", \"Physics\", \"Math\"])"
   ]
  },
  {
   "cell_type": "code",
   "execution_count": 130,
   "id": "86c2ceed-e5b7-44e1-969b-e53df7332a47",
   "metadata": {},
   "outputs": [
    {
     "data": {
      "text/html": [
       "<div>\n",
       "<style scoped>\n",
       "    .dataframe tbody tr th:only-of-type {\n",
       "        vertical-align: middle;\n",
       "    }\n",
       "\n",
       "    .dataframe tbody tr th {\n",
       "        vertical-align: top;\n",
       "    }\n",
       "\n",
       "    .dataframe thead th {\n",
       "        text-align: right;\n",
       "    }\n",
       "</style>\n",
       "<table border=\"1\" class=\"dataframe\">\n",
       "  <thead>\n",
       "    <tr style=\"text-align: right;\">\n",
       "      <th></th>\n",
       "      <th>Chemistry</th>\n",
       "      <th>Physics</th>\n",
       "      <th>Math</th>\n",
       "    </tr>\n",
       "  </thead>\n",
       "  <tbody>\n",
       "    <tr>\n",
       "      <th>Mon</th>\n",
       "      <td>18</td>\n",
       "      <td>10</td>\n",
       "      <td>17</td>\n",
       "    </tr>\n",
       "    <tr>\n",
       "      <th>Tue</th>\n",
       "      <td>0</td>\n",
       "      <td>9</td>\n",
       "      <td>6</td>\n",
       "    </tr>\n",
       "    <tr>\n",
       "      <th>Wed</th>\n",
       "      <td>9</td>\n",
       "      <td>0</td>\n",
       "      <td>13</td>\n",
       "    </tr>\n",
       "    <tr>\n",
       "      <th>Thr</th>\n",
       "      <td>4</td>\n",
       "      <td>2</td>\n",
       "      <td>17</td>\n",
       "    </tr>\n",
       "    <tr>\n",
       "      <th>Fri</th>\n",
       "      <td>1</td>\n",
       "      <td>9</td>\n",
       "      <td>3</td>\n",
       "    </tr>\n",
       "  </tbody>\n",
       "</table>\n",
       "</div>"
      ],
      "text/plain": [
       "     Chemistry  Physics  Math\n",
       "Mon         18       10    17\n",
       "Tue          0        9     6\n",
       "Wed          9        0    13\n",
       "Thr          4        2    17\n",
       "Fri          1        9     3"
      ]
     },
     "execution_count": 130,
     "metadata": {},
     "output_type": "execute_result"
    }
   ],
   "source": [
    "daily_sales_report"
   ]
  },
  {
   "cell_type": "code",
   "execution_count": 131,
   "id": "47875d10-bb58-4bdc-8919-b4eeecfca280",
   "metadata": {},
   "outputs": [
    {
     "data": {
      "text/plain": [
       "(3,)"
      ]
     },
     "execution_count": 131,
     "metadata": {},
     "output_type": "execute_result"
    }
   ],
   "source": [
    "price.shape"
   ]
  },
  {
   "cell_type": "code",
   "execution_count": 132,
   "id": "32cc8810-6407-4b58-8035-6e9ca4fcfc5a",
   "metadata": {},
   "outputs": [
    {
     "data": {
      "text/plain": [
       "array([[30, 40, 35]])"
      ]
     },
     "execution_count": 132,
     "metadata": {},
     "output_type": "execute_result"
    }
   ],
   "source": [
    "price.reshape(1,3)"
   ]
  },
  {
   "cell_type": "code",
   "execution_count": 133,
   "id": "71772fca-774a-4f8b-b7a6-a253605ebfcb",
   "metadata": {},
   "outputs": [],
   "source": [
    "price_frame =  pd.DataFrame(price.reshape(1,3),\n",
    "                            index=[\"Price\"],\n",
    "                           columns=[\"Chemistry\", \"Physics\", \"Math\"])"
   ]
  },
  {
   "cell_type": "code",
   "execution_count": 134,
   "id": "a7252c94-ed27-4959-8340-b0b941eeba1e",
   "metadata": {},
   "outputs": [
    {
     "data": {
      "text/html": [
       "<div>\n",
       "<style scoped>\n",
       "    .dataframe tbody tr th:only-of-type {\n",
       "        vertical-align: middle;\n",
       "    }\n",
       "\n",
       "    .dataframe tbody tr th {\n",
       "        vertical-align: top;\n",
       "    }\n",
       "\n",
       "    .dataframe thead th {\n",
       "        text-align: right;\n",
       "    }\n",
       "</style>\n",
       "<table border=\"1\" class=\"dataframe\">\n",
       "  <thead>\n",
       "    <tr style=\"text-align: right;\">\n",
       "      <th></th>\n",
       "      <th>Chemistry</th>\n",
       "      <th>Physics</th>\n",
       "      <th>Math</th>\n",
       "    </tr>\n",
       "  </thead>\n",
       "  <tbody>\n",
       "    <tr>\n",
       "      <th>Price</th>\n",
       "      <td>30</td>\n",
       "      <td>40</td>\n",
       "      <td>35</td>\n",
       "    </tr>\n",
       "  </tbody>\n",
       "</table>\n",
       "</div>"
      ],
      "text/plain": [
       "       Chemistry  Physics  Math\n",
       "Price         30       40    35"
      ]
     },
     "execution_count": 134,
     "metadata": {},
     "output_type": "execute_result"
    }
   ],
   "source": [
    "price_frame"
   ]
  },
  {
   "cell_type": "code",
   "execution_count": 135,
   "id": "4fabb681-ab8f-454c-98a9-e955144b5eb6",
   "metadata": {},
   "outputs": [
    {
     "data": {
      "text/plain": [
       "array([1670,  285, 1155,  300,  695])"
      ]
     },
     "execution_count": 135,
     "metadata": {},
     "output_type": "execute_result"
    }
   ],
   "source": [
    "total_salesAmount = price.dot(daily_sales.T)  ## shape didn't allign so, transpose it\n",
    "total_salesAmount"
   ]
  },
  {
   "cell_type": "code",
   "execution_count": null,
   "id": "a1a7443e-d1ef-4d4a-9abf-8354e51fbf9d",
   "metadata": {},
   "outputs": [],
   "source": []
  }
 ],
 "metadata": {
  "kernelspec": {
   "display_name": "Python 3 (ipykernel)",
   "language": "python",
   "name": "python3"
  },
  "language_info": {
   "codemirror_mode": {
    "name": "ipython",
    "version": 3
   },
   "file_extension": ".py",
   "mimetype": "text/x-python",
   "name": "python",
   "nbconvert_exporter": "python",
   "pygments_lexer": "ipython3",
   "version": "3.12.8"
  }
 },
 "nbformat": 4,
 "nbformat_minor": 5
}
