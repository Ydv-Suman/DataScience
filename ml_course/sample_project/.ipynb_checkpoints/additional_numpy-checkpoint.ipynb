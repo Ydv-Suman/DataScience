{
 "cells": [
  {
   "cell_type": "code",
   "execution_count": 1,
   "id": "2d6b6e9f-0d1c-4620-a270-9a79e8481bdb",
   "metadata": {},
   "outputs": [],
   "source": [
    "import numpy as np"
   ]
  },
  {
   "cell_type": "code",
   "execution_count": 2,
   "id": "7d32026e-d443-44c9-8c3a-6ef882b9c57b",
   "metadata": {},
   "outputs": [],
   "source": [
    "array1 = np.array([1,2,3])\n",
    "array2 = np.array([[1,2,3],[4,5,6]])\n",
    "array3 = np.array([[[1,2,3],[4,5,6]],[[7,8,9],[10,11,12]]])"
   ]
  },
  {
   "cell_type": "code",
   "execution_count": 3,
   "id": "d557b6b8-041b-4eef-9525-2b592bbdf972",
   "metadata": {},
   "outputs": [
    {
     "name": "stdout",
     "output_type": "stream",
     "text": [
      "1D array \n",
      "shape: (3,) \n",
      "numDimension: 1 \n",
      "data type: int64 \n",
      "size: 3 \n",
      "type: <class 'numpy.ndarray'>\n"
     ]
    }
   ],
   "source": [
    "print(\"1D array\",\n",
    "\"\\nshape:\", array1.shape,\n",
    "\"\\nnumDimension:\", array1.ndim,\n",
    "\"\\ndata type:\", array1.dtype,\n",
    "\"\\nsize:\", array1.size,\n",
    "\"\\ntype:\", type(array1))"
   ]
  },
  {
   "cell_type": "code",
   "execution_count": 4,
   "id": "941acda9-98d4-4101-8c1f-9500311e53da",
   "metadata": {},
   "outputs": [
    {
     "name": "stdout",
     "output_type": "stream",
     "text": [
      "2D array \n",
      "shape: (2, 3) \n",
      "numDimension: 2 \n",
      "data type: int64 \n",
      "size: 6 \n",
      "type: <class 'numpy.ndarray'>\n"
     ]
    }
   ],
   "source": [
    "print(\"2D array\",\n",
    "\"\\nshape:\", array2.shape,\n",
    "\"\\nnumDimension:\", array2.ndim,\n",
    "\"\\ndata type:\", array2.dtype,\n",
    "\"\\nsize:\", array2.size,\n",
    "\"\\ntype:\", type(array2))"
   ]
  },
  {
   "cell_type": "code",
   "execution_count": 5,
   "id": "b0e690fb-08db-456b-8344-e4fe0b5edc50",
   "metadata": {},
   "outputs": [
    {
     "name": "stdout",
     "output_type": "stream",
     "text": [
      "3D array \n",
      "shape: (2, 2, 3) \n",
      "numDimension: 3 \n",
      "data type: int64 \n",
      "size: 12 \n",
      "type: <class 'numpy.ndarray'>\n"
     ]
    }
   ],
   "source": [
    "print(\"3D array\",\n",
    "\"\\nshape:\", array3.shape,\n",
    "\"\\nnumDimension:\", array3.ndim,\n",
    "\"\\ndata type:\", array3.dtype,\n",
    "\"\\nsize:\", array3.size,\n",
    "\"\\ntype:\", type(array3))"
   ]
  },
  {
   "cell_type": "code",
   "execution_count": 6,
   "id": "03749599-862b-49dc-b502-38ca51a551d1",
   "metadata": {},
   "outputs": [],
   "source": [
    "import pandas as pd"
   ]
  },
  {
   "cell_type": "code",
   "execution_count": 57,
   "id": "607e6590-0364-4e7f-8c50-c73327ce8d82",
   "metadata": {},
   "outputs": [
    {
     "data": {
      "text/html": [
       "<div>\n",
       "<style scoped>\n",
       "    .dataframe tbody tr th:only-of-type {\n",
       "        vertical-align: middle;\n",
       "    }\n",
       "\n",
       "    .dataframe tbody tr th {\n",
       "        vertical-align: top;\n",
       "    }\n",
       "\n",
       "    .dataframe thead th {\n",
       "        text-align: right;\n",
       "    }\n",
       "</style>\n",
       "<table border=\"1\" class=\"dataframe\">\n",
       "  <thead>\n",
       "    <tr style=\"text-align: right;\">\n",
       "      <th></th>\n",
       "      <th>1st</th>\n",
       "      <th>2nd</th>\n",
       "      <th>3rd</th>\n",
       "    </tr>\n",
       "  </thead>\n",
       "  <tbody>\n",
       "    <tr>\n",
       "      <th>first</th>\n",
       "      <td>1</td>\n",
       "      <td>2</td>\n",
       "      <td>3</td>\n",
       "    </tr>\n",
       "    <tr>\n",
       "      <th>Second</th>\n",
       "      <td>4</td>\n",
       "      <td>5</td>\n",
       "      <td>6</td>\n",
       "    </tr>\n",
       "  </tbody>\n",
       "</table>\n",
       "</div>"
      ],
      "text/plain": [
       "        1st  2nd  3rd\n",
       "first     1    2    3\n",
       "Second    4    5    6"
      ]
     },
     "execution_count": 57,
     "metadata": {},
     "output_type": "execute_result"
    }
   ],
   "source": [
    "array2_dF = pd.DataFrame(array2,\n",
    "                        index=[\"first\", \"Second\"],\n",
    "                        columns=[\"1st\", \"2nd\", \"3rd\"])\n",
    "array2_dF"
   ]
  },
  {
   "cell_type": "code",
   "execution_count": 8,
   "id": "36f3bbe4-5eca-47eb-90d4-3ae2d0fee78d",
   "metadata": {},
   "outputs": [
    {
     "data": {
      "text/plain": [
       "array([[1, 1],\n",
       "       [1, 1],\n",
       "       [1, 1],\n",
       "       [1, 1],\n",
       "       [1, 1],\n",
       "       [1, 1],\n",
       "       [1, 1],\n",
       "       [1, 1],\n",
       "       [1, 1],\n",
       "       [1, 1]])"
      ]
     },
     "execution_count": 8,
     "metadata": {},
     "output_type": "execute_result"
    }
   ],
   "source": [
    "arr1 = np.ones((10,2),dtype=int)\n",
    "arr1"
   ]
  },
  {
   "cell_type": "code",
   "execution_count": 9,
   "id": "b0b6d5f7-fc4b-4a6e-a7b7-9e7ac003dd2f",
   "metadata": {},
   "outputs": [
    {
     "data": {
      "text/plain": [
       "array([[[0, 0, 0],\n",
       "        [0, 0, 0]],\n",
       "\n",
       "       [[0, 0, 0],\n",
       "        [0, 0, 0]],\n",
       "\n",
       "       [[0, 0, 0],\n",
       "        [0, 0, 0]],\n",
       "\n",
       "       [[0, 0, 0],\n",
       "        [0, 0, 0]],\n",
       "\n",
       "       [[0, 0, 0],\n",
       "        [0, 0, 0]],\n",
       "\n",
       "       [[0, 0, 0],\n",
       "        [0, 0, 0]],\n",
       "\n",
       "       [[0, 0, 0],\n",
       "        [0, 0, 0]]])"
      ]
     },
     "execution_count": 9,
     "metadata": {},
     "output_type": "execute_result"
    }
   ],
   "source": [
    "arr2 = np.zeros((7,2,3),dtype=int)\n",
    "arr2"
   ]
  },
  {
   "cell_type": "code",
   "execution_count": 10,
   "id": "00640f82-9e5b-464c-b04e-02f1f2ac716b",
   "metadata": {},
   "outputs": [
    {
     "data": {
      "text/plain": [
       "array([[24, 82],\n",
       "       [90, 83],\n",
       "       [22, 96],\n",
       "       [84, 84],\n",
       "       [83, 92],\n",
       "       [18, 14],\n",
       "       [54, 26]])"
      ]
     },
     "execution_count": 10,
     "metadata": {},
     "output_type": "execute_result"
    }
   ],
   "source": [
    "randArray = np.random.randint(0, 101, size=(7,2))\n",
    "randArray"
   ]
  },
  {
   "cell_type": "code",
   "execution_count": 11,
   "id": "1b103a23-0e9f-4395-9966-09789338d8fb",
   "metadata": {},
   "outputs": [
    {
     "name": "stdout",
     "output_type": "stream",
     "text": [
      "random array between 0 to 100, size 7,2 \n",
      "shape: (7, 2) \n",
      "numDimension: 2 \n",
      "data type: int64 \n",
      "size: 14 \n",
      "type: <class 'numpy.ndarray'>\n"
     ]
    }
   ],
   "source": [
    "print(\"random array between 0 to 100, size 7,2\",\n",
    "\"\\nshape:\", randArray.shape,\n",
    "\"\\nnumDimension:\", randArray.ndim,\n",
    "\"\\ndata type:\", randArray.dtype,\n",
    "\"\\nsize:\", randArray.size,\n",
    "\"\\ntype:\", type(randArray))"
   ]
  },
  {
   "cell_type": "code",
   "execution_count": 12,
   "id": "446f9f6a-1186-44f1-bd25-d79c17c2085f",
   "metadata": {},
   "outputs": [
    {
     "data": {
      "text/plain": [
       "array([[0.26102453, 0.18153234, 0.74075017, 0.78291519, 0.87701938],\n",
       "       [0.6791698 , 0.63648303, 0.35525521, 0.78824917, 0.25531598],\n",
       "       [0.02709877, 0.35126401, 0.24830156, 0.36988991, 0.19944261]])"
      ]
     },
     "execution_count": 12,
     "metadata": {},
     "output_type": "execute_result"
    }
   ],
   "source": [
    "randArray2 = np.random.rand(3,5)\n",
    "randArray2"
   ]
  },
  {
   "cell_type": "code",
   "execution_count": 13,
   "id": "8e6b5884-bb8e-41d6-a631-0d63de883be2",
   "metadata": {},
   "outputs": [
    {
     "data": {
      "text/plain": [
       "array([[ 6,  3, 10,  7,  4,  6],\n",
       "       [ 9,  2,  6, 10, 10,  7],\n",
       "       [ 4,  3,  7,  7,  2,  5],\n",
       "       [ 4,  1,  7,  5,  1,  4]])"
      ]
     },
     "execution_count": 13,
     "metadata": {},
     "output_type": "execute_result"
    }
   ],
   "source": [
    "np.random.seed(42)\n",
    "randArray3 = np.random.randint(0, 11, size=(4,6))\n",
    "randArray3"
   ]
  },
  {
   "cell_type": "code",
   "execution_count": 14,
   "id": "30fa17c4-47a1-491a-80d0-870455639c4f",
   "metadata": {},
   "outputs": [
    {
     "data": {
      "text/plain": [
       "array([[1, 6, 9, 1, 3, 7, 4],\n",
       "       [9, 3, 5, 3, 7, 5, 9],\n",
       "       [7, 2, 4, 9, 2, 9, 5]])"
      ]
     },
     "execution_count": 14,
     "metadata": {},
     "output_type": "execute_result"
    }
   ],
   "source": [
    "randArray4 = np.random.randint(1,10, size=(3,7))\n",
    "randArray4"
   ]
  },
  {
   "cell_type": "code",
   "execution_count": 15,
   "id": "2c9b247a-1995-4ede-b78f-6ebbda6ed84d",
   "metadata": {},
   "outputs": [
    {
     "data": {
      "text/plain": [
       "array([[1]])"
      ]
     },
     "execution_count": 15,
     "metadata": {},
     "output_type": "execute_result"
    }
   ],
   "source": [
    "randArray4[:1,:1]"
   ]
  },
  {
   "cell_type": "code",
   "execution_count": 16,
   "id": "fba6e9c8-61eb-4e39-8793-17e13ff2c826",
   "metadata": {},
   "outputs": [
    {
     "data": {
      "text/plain": [
       "array([[1, 6, 9, 1, 3, 7, 4],\n",
       "       [9, 3, 5, 3, 7, 5, 9]])"
      ]
     },
     "execution_count": 16,
     "metadata": {},
     "output_type": "execute_result"
    }
   ],
   "source": [
    "randArray4[:2]"
   ]
  },
  {
   "cell_type": "code",
   "execution_count": 17,
   "id": "6c87814d-e4bc-415e-9ddc-ead302378e13",
   "metadata": {},
   "outputs": [
    {
     "data": {
      "text/plain": [
       "array([[1, 6],\n",
       "       [9, 3]])"
      ]
     },
     "execution_count": 17,
     "metadata": {},
     "output_type": "execute_result"
    }
   ],
   "source": [
    "randArray4[:2,:2]"
   ]
  },
  {
   "cell_type": "code",
   "execution_count": 19,
   "id": "9f56b9ad-c5d6-4012-8cd1-0da3a094373e",
   "metadata": {},
   "outputs": [],
   "source": [
    "a1 = np.random.randint(0,11, size=(3,5))\n",
    "a2 = np.ones((3,5), dtype=int)"
   ]
  },
  {
   "cell_type": "code",
   "execution_count": 21,
   "id": "5a10756d-240c-4dbe-b7b8-d02d22f2bced",
   "metadata": {},
   "outputs": [
    {
     "data": {
      "text/plain": [
       "(array([[5, 1, 9, 1, 9],\n",
       "        [3, 7, 6, 8, 7],\n",
       "        [4, 1, 4, 7, 9]]),\n",
       " array([[1, 1, 1, 1, 1],\n",
       "        [1, 1, 1, 1, 1],\n",
       "        [1, 1, 1, 1, 1]]))"
      ]
     },
     "execution_count": 21,
     "metadata": {},
     "output_type": "execute_result"
    }
   ],
   "source": [
    "a1, a2"
   ]
  },
  {
   "cell_type": "code",
   "execution_count": 24,
   "id": "f1636a8d-c0be-463a-bef1-594ecc710e5a",
   "metadata": {},
   "outputs": [
    {
     "data": {
      "text/plain": [
       "array([[ 6,  2, 10,  2, 10],\n",
       "       [ 4,  8,  7,  9,  8],\n",
       "       [ 5,  2,  5,  8, 10]])"
      ]
     },
     "execution_count": 24,
     "metadata": {},
     "output_type": "execute_result"
    }
   ],
   "source": [
    "sumArray = a1 + a2\n",
    "sumArray"
   ]
  },
  {
   "cell_type": "code",
   "execution_count": 25,
   "id": "f1840538-9b98-4f7b-9d62-6ca045337632",
   "metadata": {},
   "outputs": [
    {
     "data": {
      "text/plain": [
       "array([[1, 1, 1],\n",
       "       [1, 1, 1],\n",
       "       [1, 1, 1],\n",
       "       [1, 1, 1],\n",
       "       [1, 1, 1]])"
      ]
     },
     "execution_count": 25,
     "metadata": {},
     "output_type": "execute_result"
    }
   ],
   "source": [
    "a3 = np.ones((5,3), dtype=int)\n",
    "a3"
   ]
  },
  {
   "cell_type": "code",
   "execution_count": 28,
   "id": "4f4b9fcb-5f78-4318-b3a4-7eff524e7510",
   "metadata": {},
   "outputs": [
    {
     "data": {
      "text/plain": [
       "array([[ 7,  3, 11,  3, 11],\n",
       "       [ 5,  9,  8, 10,  9],\n",
       "       [ 6,  3,  6,  9, 11]])"
      ]
     },
     "execution_count": 28,
     "metadata": {},
     "output_type": "execute_result"
    }
   ],
   "source": [
    "sumArray + a3.T  ## transpose the a3 to match the shape to perform addition"
   ]
  },
  {
   "cell_type": "code",
   "execution_count": 30,
   "id": "04165988-f2c9-4075-9022-25ca270078c7",
   "metadata": {},
   "outputs": [
    {
     "data": {
      "text/plain": [
       "array([[ 6,  2, 10,  2, 10],\n",
       "       [ 4,  8,  7,  9,  8],\n",
       "       [ 5,  2,  5,  8, 10]])"
      ]
     },
     "execution_count": 30,
     "metadata": {},
     "output_type": "execute_result"
    }
   ],
   "source": [
    "multArray = sumArray * a2\n",
    "multArray"
   ]
  },
  {
   "cell_type": "code",
   "execution_count": 36,
   "id": "cb6cfe0b-ea29-4da4-bf68-0cc4f31d2660",
   "metadata": {},
   "outputs": [
    {
     "data": {
      "text/plain": [
       "((3, 5), (3, 5))"
      ]
     },
     "execution_count": 36,
     "metadata": {},
     "output_type": "execute_result"
    }
   ],
   "source": [
    "sumArray.shape, a2.shape"
   ]
  },
  {
   "cell_type": "code",
   "execution_count": 38,
   "id": "14b46ed3-cd81-4c5a-8303-e46047817cff",
   "metadata": {},
   "outputs": [
    {
     "data": {
      "text/plain": [
       "array([[30, 30, 30],\n",
       "       [36, 36, 36],\n",
       "       [30, 30, 30]])"
      ]
     },
     "execution_count": 38,
     "metadata": {},
     "output_type": "execute_result"
    }
   ],
   "source": [
    "np.dot(sumArray, a2.T)"
   ]
  },
  {
   "cell_type": "code",
   "execution_count": 37,
   "id": "245c7c43-8f0c-414e-bb5f-bfcf12f64f91",
   "metadata": {},
   "outputs": [
    {
     "data": {
      "text/plain": [
       "array([[[[30, 30, 30]],\n",
       "\n",
       "        [[36, 36, 36]],\n",
       "\n",
       "        [[30, 30, 30]]]])"
      ]
     },
     "execution_count": 37,
     "metadata": {},
     "output_type": "execute_result"
    }
   ],
   "source": [
    "np.dot(sumArray.reshape(1,3,5), a2.reshape(1,5,3)) ## reshaping "
   ]
  },
  {
   "cell_type": "code",
   "execution_count": 44,
   "id": "4a06069d-1f00-4bfa-a8ad-d1504c7e855a",
   "metadata": {},
   "outputs": [
    {
     "data": {
      "text/plain": [
       "array([[ 6,  2, 10,  2, 10],\n",
       "       [ 4,  8,  7,  9,  8],\n",
       "       [ 5,  2,  5,  8, 10]])"
      ]
     },
     "execution_count": 44,
     "metadata": {},
     "output_type": "execute_result"
    }
   ],
   "source": [
    "sumArray"
   ]
  },
  {
   "cell_type": "code",
   "execution_count": 43,
   "id": "003520d1-9061-4e9b-a179-11953a082a66",
   "metadata": {},
   "outputs": [
    {
     "data": {
      "text/plain": [
       "array([[ 36,   4, 100,   4, 100],\n",
       "       [ 16,  64,  49,  81,  64],\n",
       "       [ 25,   4,  25,  64, 100]])"
      ]
     },
     "execution_count": 43,
     "metadata": {},
     "output_type": "execute_result"
    }
   ],
   "source": [
    "sumArray**2  ## squaring each element"
   ]
  },
  {
   "cell_type": "code",
   "execution_count": 45,
   "id": "c63c65ac-80f2-4b7c-b1d1-d4d84306bb5b",
   "metadata": {},
   "outputs": [
    {
     "data": {
      "text/plain": [
       "array([[ 36,   4, 100,   4, 100],\n",
       "       [ 16,  64,  49,  81,  64],\n",
       "       [ 25,   4,  25,  64, 100]])"
      ]
     },
     "execution_count": 45,
     "metadata": {},
     "output_type": "execute_result"
    }
   ],
   "source": [
    "np.square(sumArray)"
   ]
  },
  {
   "cell_type": "code",
   "execution_count": 46,
   "id": "3c26f9e5-f3bd-4eea-97b3-0ca029d1d3a5",
   "metadata": {},
   "outputs": [
    {
     "data": {
      "text/plain": [
       "np.float64(6.4)"
      ]
     },
     "execution_count": 46,
     "metadata": {},
     "output_type": "execute_result"
    }
   ],
   "source": [
    "np.mean(sumArray)"
   ]
  },
  {
   "cell_type": "code",
   "execution_count": 52,
   "id": "b605690a-60a4-4147-a01f-ef0a124fc04e",
   "metadata": {},
   "outputs": [
    {
     "data": {
      "text/plain": [
       "array([1, 0, 2, 0, 1])"
      ]
     },
     "execution_count": 52,
     "metadata": {},
     "output_type": "execute_result"
    }
   ],
   "source": [
    "np.argmin(sumArray, axis=0)  ## provide index\n",
    "                            ## axis=0 means columns\n",
    "                            ## axis=1 means rows"
   ]
  },
  {
   "cell_type": "code",
   "execution_count": 53,
   "id": "5cf8d53e-852d-4479-ad75-6e4343a9ceaf",
   "metadata": {},
   "outputs": [
    {
     "data": {
      "text/plain": [
       "array([2, 3, 4])"
      ]
     },
     "execution_count": 53,
     "metadata": {},
     "output_type": "execute_result"
    }
   ],
   "source": [
    "np.argmax(sumArray, axis=1)"
   ]
  },
  {
   "cell_type": "code",
   "execution_count": 54,
   "id": "beb20426-92a3-4693-bae4-0aca29466a37",
   "metadata": {},
   "outputs": [
    {
     "data": {
      "text/plain": [
       "np.int64(10)"
      ]
     },
     "execution_count": 54,
     "metadata": {},
     "output_type": "execute_result"
    }
   ],
   "source": [
    "np.max(sumArray)"
   ]
  },
  {
   "cell_type": "code",
   "execution_count": 55,
   "id": "db3fc0d2-2f98-41f1-9750-218f57702baa",
   "metadata": {
    "scrolled": true
   },
   "outputs": [
    {
     "data": {
      "text/plain": [
       "np.int64(2)"
      ]
     },
     "execution_count": 55,
     "metadata": {},
     "output_type": "execute_result"
    }
   ],
   "source": [
    "np.min(sumArray)"
   ]
  },
  {
   "cell_type": "code",
   "execution_count": 58,
   "id": "516edaaa-12a9-43d8-bfc9-66ba46b831b9",
   "metadata": {},
   "outputs": [
    {
     "data": {
      "text/plain": [
       "np.float64(2.8472208672083497)"
      ]
     },
     "execution_count": 58,
     "metadata": {},
     "output_type": "execute_result"
    }
   ],
   "source": [
    "np.std(sumArray)"
   ]
  },
  {
   "cell_type": "code",
   "execution_count": 59,
   "id": "eeb25a68-ff37-4772-aab1-7489e36c1843",
   "metadata": {},
   "outputs": [
    {
     "data": {
      "text/plain": [
       "np.float64(8.106666666666667)"
      ]
     },
     "execution_count": 59,
     "metadata": {},
     "output_type": "execute_result"
    }
   ],
   "source": [
    "np.var(sumArray)"
   ]
  },
  {
   "cell_type": "code",
   "execution_count": 62,
   "id": "b745ef69-0cbe-454a-a6f4-e8d18b753be5",
   "metadata": {},
   "outputs": [
    {
     "data": {
      "text/plain": [
       "array([[[ 6],\n",
       "        [ 2],\n",
       "        [10],\n",
       "        [ 2],\n",
       "        [10]],\n",
       "\n",
       "       [[ 4],\n",
       "        [ 8],\n",
       "        [ 7],\n",
       "        [ 9],\n",
       "        [ 8]],\n",
       "\n",
       "       [[ 5],\n",
       "        [ 2],\n",
       "        [ 5],\n",
       "        [ 8],\n",
       "        [10]]])"
      ]
     },
     "execution_count": 62,
     "metadata": {},
     "output_type": "execute_result"
    }
   ],
   "source": [
    "sumArray.reshape(3,5,1)"
   ]
  },
  {
   "cell_type": "code",
   "execution_count": 75,
   "id": "31882f6e-8f00-42d0-8945-7dd6a11a5770",
   "metadata": {},
   "outputs": [],
   "source": [
    "np.random.seed(10)\n",
    "rand_array1 = np.random.randint(0, 11, size=(3,3))\n",
    "rand_array2 = np.random.randint(0,11, size=(3,2))"
   ]
  },
  {
   "cell_type": "code",
   "execution_count": 76,
   "id": "3fc63151-acd8-4d70-94b8-967a2ad962ce",
   "metadata": {},
   "outputs": [
    {
     "data": {
      "text/plain": [
       "array([[ 9,  4,  0],\n",
       "       [ 1,  9,  0],\n",
       "       [ 1, 10,  8]])"
      ]
     },
     "execution_count": 76,
     "metadata": {},
     "output_type": "execute_result"
    }
   ],
   "source": [
    "rand_array1"
   ]
  },
  {
   "cell_type": "code",
   "execution_count": 77,
   "id": "f2f59cc6-0883-47ea-a020-4c4d7e968401",
   "metadata": {},
   "outputs": [
    {
     "data": {
      "text/plain": [
       "array([[ 9,  0],\n",
       "       [10,  8],\n",
       "       [ 6,  4]])"
      ]
     },
     "execution_count": 77,
     "metadata": {},
     "output_type": "execute_result"
    }
   ],
   "source": [
    "rand_array2"
   ]
  },
  {
   "cell_type": "code",
   "execution_count": 78,
   "id": "1439f4d3-fefb-4fda-ac3d-ba7e34d2d618",
   "metadata": {},
   "outputs": [
    {
     "data": {
      "text/plain": [
       "array([[121,  32],\n",
       "       [ 99,  72],\n",
       "       [157, 112]])"
      ]
     },
     "execution_count": 78,
     "metadata": {},
     "output_type": "execute_result"
    }
   ],
   "source": [
    "np.dot(rand_array1, rand_array2)"
   ]
  },
  {
   "cell_type": "code",
   "execution_count": 79,
   "id": "ee6145f9-a8f6-4cbf-9c4b-26c6b234d84d",
   "metadata": {},
   "outputs": [],
   "source": [
    "np.random.seed(10)\n",
    "rand_array3 = np.random.randint(0,11, size=(4,3))\n",
    "rand_array4 = np.random.randint(0,11, size=(4,3))"
   ]
  },
  {
   "cell_type": "code",
   "execution_count": 80,
   "id": "a2b75eda-9fc7-4ba9-96b8-94b4383bdea6",
   "metadata": {},
   "outputs": [
    {
     "data": {
      "text/plain": [
       "array([[ 9,  4,  0],\n",
       "       [ 1,  9,  0],\n",
       "       [ 1, 10,  8],\n",
       "       [ 9,  0, 10]])"
      ]
     },
     "execution_count": 80,
     "metadata": {},
     "output_type": "execute_result"
    }
   ],
   "source": [
    "rand_array3"
   ]
  },
  {
   "cell_type": "code",
   "execution_count": 81,
   "id": "9523e6d5-cc2d-44b3-88be-3699ba6513c3",
   "metadata": {},
   "outputs": [
    {
     "data": {
      "text/plain": [
       "array([[ 8,  6,  4],\n",
       "       [ 3,  0,  4],\n",
       "       [ 6,  8, 10],\n",
       "       [ 1,  8,  4]])"
      ]
     },
     "execution_count": 81,
     "metadata": {},
     "output_type": "execute_result"
    }
   ],
   "source": [
    "rand_array4"
   ]
  },
  {
   "cell_type": "code",
   "execution_count": 83,
   "id": "ec56bfb2-02d0-4880-bd9f-c84ceaa60e30",
   "metadata": {},
   "outputs": [
    {
     "data": {
      "text/plain": [
       "array([[ 96,  27,  86,  41],\n",
       "       [ 62,   3,  78,  73],\n",
       "       [100,  35, 166, 113],\n",
       "       [112,  67, 154,  49]])"
      ]
     },
     "execution_count": 83,
     "metadata": {},
     "output_type": "execute_result"
    }
   ],
   "source": [
    "np.dot(rand_array3, rand_array4.T)  ## shapes don't allign"
   ]
  },
  {
   "cell_type": "code",
   "execution_count": 84,
   "id": "ac482645-dc45-46d4-8b80-96fe7c0ec485",
   "metadata": {},
   "outputs": [
    {
     "data": {
      "text/plain": [
       "array([[[[117,  36,   4,  49]],\n",
       "\n",
       "        [[ 90,   4,   9,  91]],\n",
       "\n",
       "        [[163,  76,  10, 181]],\n",
       "\n",
       "        [[161, 126,   0, 109]]]])"
      ]
     },
     "execution_count": 84,
     "metadata": {},
     "output_type": "execute_result"
    }
   ],
   "source": [
    "np.dot(rand_array3.reshape(1,4,3), rand_array3.reshape(1,3,4))"
   ]
  },
  {
   "cell_type": "code",
   "execution_count": 85,
   "id": "c6604b65-36a6-4982-a584-001fdd0a2be2",
   "metadata": {},
   "outputs": [
    {
     "data": {
      "text/plain": [
       "array([[ True, False, False],\n",
       "       [False,  True, False],\n",
       "       [False,  True, False],\n",
       "       [ True, False,  True]])"
      ]
     },
     "execution_count": 85,
     "metadata": {},
     "output_type": "execute_result"
    }
   ],
   "source": [
    "rand_array3 > rand_array4"
   ]
  },
  {
   "cell_type": "code",
   "execution_count": 86,
   "id": "db04ba8a-f0e4-45f7-a641-b3db86087426",
   "metadata": {},
   "outputs": [
    {
     "data": {
      "text/plain": [
       "array([[ True,  True,  True],\n",
       "       [ True,  True,  True],\n",
       "       [ True,  True,  True],\n",
       "       [ True,  True,  True]])"
      ]
     },
     "execution_count": 86,
     "metadata": {},
     "output_type": "execute_result"
    }
   ],
   "source": [
    "rand_array3 >= rand_array3"
   ]
  },
  {
   "cell_type": "code",
   "execution_count": 87,
   "id": "0f582ae3-8668-496c-9e85-f0ca0e0142b2",
   "metadata": {},
   "outputs": [
    {
     "data": {
      "text/plain": [
       "array([[ 0,  4,  9],\n",
       "       [ 0,  1,  9],\n",
       "       [ 1,  8, 10],\n",
       "       [ 0,  9, 10]])"
      ]
     },
     "execution_count": 87,
     "metadata": {},
     "output_type": "execute_result"
    }
   ],
   "source": [
    "np.sort(rand_array3)"
   ]
  },
  {
   "cell_type": "code",
   "execution_count": 95,
   "id": "4280654a-6dfe-4afa-864f-7dbc1048b55e",
   "metadata": {},
   "outputs": [
    {
     "data": {
      "text/plain": [
       "array([  0.        ,  11.22222222,  22.44444444,  33.66666667,\n",
       "        44.88888889,  56.11111111,  67.33333333,  78.55555556,\n",
       "        89.77777778, 101.        ])"
      ]
     },
     "execution_count": 95,
     "metadata": {},
     "output_type": "execute_result"
    }
   ],
   "source": [
    "rand_array5 = np.linspace(0,101, 10)\n",
    "rand_array5"
   ]
  }
 ],
 "metadata": {
  "kernelspec": {
   "display_name": "Python 3 (ipykernel)",
   "language": "python",
   "name": "python3"
  },
  "language_info": {
   "codemirror_mode": {
    "name": "ipython",
    "version": 3
   },
   "file_extension": ".py",
   "mimetype": "text/x-python",
   "name": "python",
   "nbconvert_exporter": "python",
   "pygments_lexer": "ipython3",
   "version": "3.12.8"
  }
 },
 "nbformat": 4,
 "nbformat_minor": 5
}
